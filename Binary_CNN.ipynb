{
 "cells": [
  {
   "cell_type": "code",
   "execution_count": 102,
   "metadata": {},
   "outputs": [],
   "source": [
    "import torch\n",
    "import torch.nn as nn\n",
    "import torch.nn.functional as F\n",
    "from sklearn.model_selection import train_test_split\n",
    "\n",
    "from imblearn.over_sampling import SMOTE\n",
    "\n",
    "import numpy as np\n",
    "import pandas as pd\n",
    "from sklearn.metrics import confusion_matrix\n",
    "import seaborn as sns\n",
    "import matplotlib.pyplot as plt\n",
    "%matplotlib inline"
   ]
  },
  {
   "cell_type": "markdown",
   "metadata": {},
   "source": [
    "Get your data"
   ]
  },
  {
   "cell_type": "code",
   "execution_count": 103,
   "metadata": {},
   "outputs": [
    {
     "name": "stdout",
     "output_type": "stream",
     "text": [
      "(4046, 188)\n",
      "(10506, 188)\n"
     ]
    }
   ],
   "source": [
    "normal = pd.read_csv(\"ptbdb_normal.csv\", header=None)\n",
    "abnormal = pd.read_csv(\"ptbdb_abnormal.csv\", header=None)\n",
    "\n",
    "print(normal.shape)\n",
    "print(abnormal.shape)"
   ]
  },
  {
   "cell_type": "code",
   "execution_count": 104,
   "metadata": {},
   "outputs": [
    {
     "data": {
      "text/plain": [
       "(14552, 188)"
      ]
     },
     "execution_count": 104,
     "metadata": {},
     "output_type": "execute_result"
    }
   ],
   "source": [
    "combined = pd.concat( [normal, abnormal], axis=0, ignore_index=True)\n",
    "\n",
    "combined.shape\n"
   ]
  },
  {
   "cell_type": "code",
   "execution_count": 105,
   "metadata": {},
   "outputs": [],
   "source": [
    "X = combined.drop(columns=[187])\n",
    "X = X.values\n",
    "\n",
    "y = combined[187]\n",
    "y = y.values"
   ]
  },
  {
   "cell_type": "code",
   "execution_count": 106,
   "metadata": {},
   "outputs": [
    {
     "name": "stdout",
     "output_type": "stream",
     "text": [
      "(11641, 187)\n",
      "(2911, 187)\n",
      "(11641,)\n",
      "(2911,)\n"
     ]
    }
   ],
   "source": [
    "X_train, X_test, y_train, y_test = train_test_split(X, y, test_size=0.2, random_state=42)\n",
    "\n",
    "print(X_train.shape)\n",
    "print(X_test.shape)\n",
    "print(y_train.shape)\n",
    "print(y_test.shape)"
   ]
  },
  {
   "cell_type": "code",
   "execution_count": 107,
   "metadata": {},
   "outputs": [
    {
     "name": "stdout",
     "output_type": "stream",
     "text": [
      "(16858, 187)\n",
      "(16858,)\n"
     ]
    }
   ],
   "source": [
    "smote = SMOTE(random_state=42)\n",
    "\n",
    "X_train, y_train = smote.fit_resample(X_train, y_train)\n",
    "\n",
    "print(X_train.shape)\n",
    "print(y_train.shape)"
   ]
  },
  {
   "cell_type": "code",
   "execution_count": 108,
   "metadata": {},
   "outputs": [
    {
     "name": "stdout",
     "output_type": "stream",
     "text": [
      "torch.Size([16858, 187])\n",
      "torch.Size([2911, 187])\n",
      "torch.Size([16858])\n",
      "torch.Size([2911])\n"
     ]
    }
   ],
   "source": [
    "X_train = torch.FloatTensor(X_train)\n",
    "X_test = torch.FloatTensor(X_test)\n",
    "y_train = torch.LongTensor(y_train)\n",
    "y_test = torch.LongTensor(y_test)\n",
    "\n",
    "print(X_train.shape)\n",
    "print(X_test.shape)\n",
    "print(y_train.shape)\n",
    "print(y_test.shape)"
   ]
  },
  {
   "cell_type": "markdown",
   "metadata": {},
   "source": [
    "Now, pretty big difference here when it comes t comparing neural netwroks, to convolutional neural networks. \n",
    "\n",
    "Neural networks: \n",
    "- the input data is typically passed as a 2D tensor with the shape (batch size, features). \n",
    "- Each sample is a vector of features, like the 187 features of the data. \n",
    "- For instance, X_train_smote is already in the 2d format: (16858, 187), where 16858 is the number of samples, and 187 is the number of features per sample.\n",
    "\n",
    "Convolutional Neural Networks: \n",
    "- input data for a 1d cnn is a 3d tensor with the shape (batch_size, channels, length)\n",
    "- CNNs work on images (or grids), which have multiple dimensions: the height, width, and channels (Like RGB images have 3 channels: red, green, and blue).\n",
    "- In the case of the ECG data, we have 187 features (values) per sample.\n",
    "- We treat these a single sample of 187 features as a 1d sequence of features\n",
    "- since each signal is a 1d sequence, then we only need one channel (a single feature set)\n",
    "\n",
    "Explaning 3D Tensor Shape (batch_size, channels, length):\n",
    "- batch_size is the number of samples we are passing to the model in a single batch. (in this case, we are just sending the whole dataset in one go, no batches).\n",
    "- channels is the number of channels in the data. Since the data is 1D (ECG signal), it has 1 channel.\n",
    "- length is simply the length of the 1D signal. In this case, this is the number of features (187).\n",
    "\n",
    "\n",
    "Therefore, our final shape look like this:\n",
    "- (batch_size, channels, Length) = (16858, 1, 187)\n",
    "\n",
    "\n",
    "Note: \n",
    "- We reshape X variables go work along the model\n",
    "- No need to reshape y variables as those are just lables, which are handled by the loss function \n",
    "\n",
    "-------------------------------------------------------------------------\n",
    "For Future reference: \n",
    "- 1D CNN: Works with sequences (like time-series data, text). Shape: (batch_size, channels, length).\n",
    "- 2D CNN: Works with images or spatial data. Shape: (batch_size, channels, height, width).\n",
    "- 3D CNN: Works with volumetric data or video. Shape: (batch_size, channels, depth, height, width).\n",
    "\n",
    "Key Differences:\n",
    "- 1D CNN uses convolution along one axis (usually time or sequence).\n",
    "- 2D CNN uses convolution over two axes (height and width).\n",
    "- 3D CNN uses convolution over three axes (depth, height, and width).\n",
    "\n",
    "\n",
    "\n"
   ]
  },
  {
   "cell_type": "code",
   "execution_count": 109,
   "metadata": {},
   "outputs": [
    {
     "name": "stdout",
     "output_type": "stream",
     "text": [
      "torch.Size([16858, 1, 187])\n",
      "torch.Size([2911, 1, 187])\n"
     ]
    }
   ],
   "source": [
    "X_train = X_train.unsqueeze(1)  #add channel dimension [6400, 1, 187]\n",
    "X_test = X_test.unsqueeze(1)    #add channel dimension [1600, 1, 187]\n",
    "\n",
    "print(X_train.shape)\n",
    "print(X_test.shape)\n"
   ]
  },
  {
   "cell_type": "code",
   "execution_count": 110,
   "metadata": {},
   "outputs": [],
   "source": [
    "class Binary_CNN_ECG(nn.Module):\n",
    "    #input_channels: number of input channels. For 1D signals, typically 1.\n",
    "    #binary classification so out=2\n",
    "\n",
    "    def __init__(self, input_channels = 1, out = 2, dropout_rate = 0.5):\n",
    "        super().__init__() \n",
    "        \n",
    "        #convolutional layers\n",
    "        #signal starts as a tensor (batch size,1,187). input is 1 as the ECG data has one channel (single feature per time point\n",
    "        #first layer learns 32 different patterns, sliding window of size 3, stride/step of 1\n",
    "        #padding adds 1 zero on each side of the input to ensure output size remains 187\n",
    "        self.conv1 = nn.Conv1d(input_channels, 16, kernel_size=3, stride=1, padding=1)\n",
    "        self.conv2 = nn.Conv1d(16, 32, kernel_size=3, stride=1, padding=1)\n",
    "\n",
    "        #pooling layer\n",
    "\n",
    "        #this layer \"downsamples\" the data, reducing its size while keeping prominent features/patterns\n",
    "        #pooling window is 2 time points, stride/step is 2 at a time\n",
    "        #since we picked 2, that measn that our data shrinks by half every layer\n",
    "\n",
    "        self.pool = nn.MaxPool1d(kernel_size=2, stride=2)\n",
    "\n",
    "        #finish off with fully connected layers\n",
    "\n",
    "        #we divie the size of our input by 2 exaclty 3 times, as our pooling function is called 3 times\n",
    "        #// is the floor operator\n",
    "        self.fc1 = nn.Linear(32 * (187 // 2 // 2), 64)\n",
    "        self.fc2 = nn.Linear(64,out)\n",
    "        self.relu = nn.ReLU()\n",
    "        self.dropout = nn.Dropout(dropout_rate)\n",
    "    \n",
    "    def forward(self, x):\n",
    "        #convolutional layers with relu and pooling\n",
    "        x = self.relu(self.conv1(x))\n",
    "        x = self.pool(x)\n",
    "        x = self.relu(self.conv2(x))\n",
    "        x = self.pool(x)\n",
    "        \n",
    "        #flatten the tensor for the fully connected layers, as fully connected layers expect\n",
    "        #input tensor to be in the form (batch_size, features)\n",
    "        # so it goes from (batch_size, 32, 46) to (batch_size, 1472)\n",
    "        #note: start_dim=1 meas we flatten from the first dimension after the batch dimension (0)\n",
    "        x = torch.flatten(x, start_dim=1)\n",
    " \n",
    "        #fully connected layers\n",
    "        x = self.relu(self.fc1(x))\n",
    "        x = self.dropout(x)\n",
    "        x = self.fc2(x)\n",
    "      \n",
    "        return x\n"
   ]
  },
  {
   "cell_type": "code",
   "execution_count": 111,
   "metadata": {},
   "outputs": [],
   "source": [
    "#create instance\n",
    "binary_cnn_model = Binary_CNN_ECG()\n",
    "\n",
    "#define loss fucntion \n",
    "loss_func =  nn.CrossEntropyLoss() #critereon\n",
    "\n",
    "\n",
    "#define optimizer\n",
    "optimizer = torch.optim.Adam(binary_cnn_model.parameters(), lr=0.01)"
   ]
  },
  {
   "cell_type": "code",
   "execution_count": 112,
   "metadata": {},
   "outputs": [
    {
     "data": {
      "text/plain": [
       "Binary_CNN_ECG(\n",
       "  (conv1): Conv1d(1, 16, kernel_size=(3,), stride=(1,), padding=(1,))\n",
       "  (conv2): Conv1d(16, 32, kernel_size=(3,), stride=(1,), padding=(1,))\n",
       "  (pool): MaxPool1d(kernel_size=2, stride=2, padding=0, dilation=1, ceil_mode=False)\n",
       "  (fc1): Linear(in_features=1472, out_features=64, bias=True)\n",
       "  (fc2): Linear(in_features=64, out_features=2, bias=True)\n",
       "  (relu): ReLU()\n",
       "  (dropout): Dropout(p=0.5, inplace=False)\n",
       ")"
      ]
     },
     "execution_count": 112,
     "metadata": {},
     "output_type": "execute_result"
    }
   ],
   "source": [
    "binary_cnn_model"
   ]
  },
  {
   "cell_type": "code",
   "execution_count": 113,
   "metadata": {},
   "outputs": [
    {
     "name": "stdout",
     "output_type": "stream",
     "text": [
      "Epoch 1 / 100\n",
      "Train Loss: 0.6932, Train Accuracy: 50.4746\n",
      "Test Loss: 0.6297, Test Accuracy: 71.3501\n",
      "Epoch 2 / 100\n",
      "Train Loss: 0.7127, Train Accuracy: 52.4024\n",
      "Test Loss: 1.0639, Test Accuracy: 28.6499\n",
      "Epoch 3 / 100\n",
      "Train Loss: 0.8319, Train Accuracy: 50.6703\n",
      "Test Loss: 0.5760, Test Accuracy: 72.4837\n",
      "Epoch 4 / 100\n",
      "Train Loss: 0.6592, Train Accuracy: 56.6319\n",
      "Test Loss: 0.5556, Test Accuracy: 71.5218\n",
      "Epoch 5 / 100\n",
      "Train Loss: 0.6637, Train Accuracy: 52.9541\n",
      "Test Loss: 0.5788, Test Accuracy: 72.9646\n",
      "Epoch 6 / 100\n",
      "Train Loss: 0.6310, Train Accuracy: 63.7976\n",
      "Test Loss: 0.5870, Test Accuracy: 69.8042\n",
      "Epoch 7 / 100\n",
      "Train Loss: 0.6142, Train Accuracy: 69.7058\n",
      "Test Loss: 0.5742, Test Accuracy: 69.0141\n",
      "Epoch 8 / 100\n",
      "Train Loss: 0.5963, Train Accuracy: 70.9693\n",
      "Test Loss: 0.5556, Test Accuracy: 68.9110\n",
      "Epoch 9 / 100\n",
      "Train Loss: 0.5821, Train Accuracy: 71.2777\n",
      "Test Loss: 0.5505, Test Accuracy: 68.8767\n",
      "Epoch 10 / 100\n",
      "Train Loss: 0.5707, Train Accuracy: 71.5150\n",
      "Test Loss: 0.5835, Test Accuracy: 67.3995\n",
      "Epoch 11 / 100\n",
      "Train Loss: 0.5699, Train Accuracy: 71.5269\n",
      "Test Loss: 0.5782, Test Accuracy: 68.0179\n",
      "Epoch 12 / 100\n",
      "Train Loss: 0.5610, Train Accuracy: 71.9896\n",
      "Test Loss: 0.5339, Test Accuracy: 71.3844\n",
      "Epoch 13 / 100\n",
      "Train Loss: 0.5541, Train Accuracy: 73.1522\n",
      "Test Loss: 0.5296, Test Accuracy: 71.3157\n",
      "Epoch 14 / 100\n",
      "Train Loss: 0.5426, Train Accuracy: 73.3658\n",
      "Test Loss: 0.5331, Test Accuracy: 70.5943\n",
      "Epoch 15 / 100\n",
      "Train Loss: 0.5360, Train Accuracy: 73.9708\n",
      "Test Loss: 0.5055, Test Accuracy: 73.5143\n",
      "Epoch 16 / 100\n",
      "Train Loss: 0.5241, Train Accuracy: 75.7622\n",
      "Test Loss: 0.4791, Test Accuracy: 76.5716\n",
      "Epoch 17 / 100\n",
      "Train Loss: 0.5171, Train Accuracy: 76.5037\n",
      "Test Loss: 0.5061, Test Accuracy: 73.6173\n",
      "Epoch 18 / 100\n",
      "Train Loss: 0.5076, Train Accuracy: 75.9817\n",
      "Test Loss: 0.4884, Test Accuracy: 74.8540\n",
      "Epoch 19 / 100\n",
      "Train Loss: 0.4962, Train Accuracy: 76.7766\n",
      "Test Loss: 0.4587, Test Accuracy: 77.2587\n",
      "Epoch 20 / 100\n",
      "Train Loss: 0.4906, Train Accuracy: 77.4172\n",
      "Test Loss: 0.4962, Test Accuracy: 74.1326\n",
      "Epoch 21 / 100\n",
      "Train Loss: 0.4795, Train Accuracy: 77.4884\n",
      "Test Loss: 0.4577, Test Accuracy: 77.4648\n",
      "Epoch 22 / 100\n",
      "Train Loss: 0.4663, Train Accuracy: 78.9595\n",
      "Test Loss: 0.4345, Test Accuracy: 79.0106\n",
      "Epoch 23 / 100\n",
      "Train Loss: 0.4621, Train Accuracy: 79.6654\n",
      "Test Loss: 0.4894, Test Accuracy: 75.1288\n",
      "Epoch 24 / 100\n",
      "Train Loss: 0.4575, Train Accuracy: 79.7129\n",
      "Test Loss: 0.4195, Test Accuracy: 80.1786\n",
      "Epoch 25 / 100\n",
      "Train Loss: 0.4486, Train Accuracy: 80.7747\n",
      "Test Loss: 0.4290, Test Accuracy: 79.6290\n",
      "Epoch 26 / 100\n",
      "Train Loss: 0.4399, Train Accuracy: 81.5103\n",
      "Test Loss: 0.4474, Test Accuracy: 78.2205\n",
      "Epoch 27 / 100\n",
      "Train Loss: 0.4392, Train Accuracy: 81.5340\n",
      "Test Loss: 0.4135, Test Accuracy: 80.4191\n",
      "Epoch 28 / 100\n",
      "Train Loss: 0.4321, Train Accuracy: 82.2458\n",
      "Test Loss: 0.4131, Test Accuracy: 80.3504\n",
      "Epoch 29 / 100\n",
      "Train Loss: 0.4281, Train Accuracy: 82.0857\n",
      "Test Loss: 0.4398, Test Accuracy: 78.6671\n",
      "Epoch 30 / 100\n",
      "Train Loss: 0.4259, Train Accuracy: 82.0441\n",
      "Test Loss: 0.4036, Test Accuracy: 81.3466\n",
      "Epoch 31 / 100\n",
      "Train Loss: 0.4268, Train Accuracy: 82.3585\n",
      "Test Loss: 0.4266, Test Accuracy: 79.8351\n",
      "Epoch 32 / 100\n",
      "Train Loss: 0.4158, Train Accuracy: 82.7085\n",
      "Test Loss: 0.4078, Test Accuracy: 81.2436\n",
      "Epoch 33 / 100\n",
      "Train Loss: 0.4130, Train Accuracy: 82.9102\n",
      "Test Loss: 0.3975, Test Accuracy: 81.5184\n",
      "Epoch 34 / 100\n",
      "Train Loss: 0.4059, Train Accuracy: 83.3254\n",
      "Test Loss: 0.4309, Test Accuracy: 79.2511\n",
      "Epoch 35 / 100\n",
      "Train Loss: 0.4094, Train Accuracy: 82.7678\n",
      "Test Loss: 0.3662, Test Accuracy: 83.5452\n",
      "Epoch 36 / 100\n",
      "Train Loss: 0.4314, Train Accuracy: 81.0832\n",
      "Test Loss: 0.4586, Test Accuracy: 77.4991\n",
      "Epoch 37 / 100\n",
      "Train Loss: 0.4214, Train Accuracy: 81.7119\n",
      "Test Loss: 0.4563, Test Accuracy: 77.5678\n",
      "Epoch 38 / 100\n",
      "Train Loss: 0.4232, Train Accuracy: 81.2908\n",
      "Test Loss: 0.3860, Test Accuracy: 82.3428\n",
      "Epoch 39 / 100\n",
      "Train Loss: 0.4003, Train Accuracy: 83.5449\n",
      "Test Loss: 0.3577, Test Accuracy: 83.5795\n",
      "Epoch 40 / 100\n",
      "Train Loss: 0.4208, Train Accuracy: 82.0797\n",
      "Test Loss: 0.3801, Test Accuracy: 82.5490\n",
      "Epoch 41 / 100\n",
      "Train Loss: 0.3903, Train Accuracy: 84.0550\n",
      "Test Loss: 0.4304, Test Accuracy: 79.4229\n",
      "Epoch 42 / 100\n",
      "Train Loss: 0.4001, Train Accuracy: 83.1890\n",
      "Test Loss: 0.4086, Test Accuracy: 80.8313\n",
      "Epoch 43 / 100\n",
      "Train Loss: 0.3889, Train Accuracy: 83.8178\n",
      "Test Loss: 0.3611, Test Accuracy: 83.6139\n",
      "Epoch 44 / 100\n",
      "Train Loss: 0.3967, Train Accuracy: 83.0822\n",
      "Test Loss: 0.3696, Test Accuracy: 83.7513\n",
      "Epoch 45 / 100\n",
      "Train Loss: 0.3821, Train Accuracy: 84.0254\n",
      "Test Loss: 0.4047, Test Accuracy: 81.0374\n",
      "Epoch 46 / 100\n",
      "Train Loss: 0.3822, Train Accuracy: 84.0313\n",
      "Test Loss: 0.3905, Test Accuracy: 81.5871\n",
      "Epoch 47 / 100\n",
      "Train Loss: 0.3775, Train Accuracy: 84.2567\n",
      "Test Loss: 0.3529, Test Accuracy: 84.1635\n",
      "Epoch 48 / 100\n",
      "Train Loss: 0.3734, Train Accuracy: 84.8203\n",
      "Test Loss: 0.3460, Test Accuracy: 84.3696\n",
      "Epoch 49 / 100\n",
      "Train Loss: 0.3720, Train Accuracy: 85.1999\n",
      "Test Loss: 0.3674, Test Accuracy: 82.7894\n",
      "Epoch 50 / 100\n",
      "Train Loss: 0.3654, Train Accuracy: 85.0516\n",
      "Test Loss: 0.3741, Test Accuracy: 82.1024\n",
      "Epoch 51 / 100\n",
      "Train Loss: 0.3645, Train Accuracy: 84.9211\n",
      "Test Loss: 0.3441, Test Accuracy: 84.6445\n",
      "Epoch 52 / 100\n",
      "Train Loss: 0.3602, Train Accuracy: 85.3007\n",
      "Test Loss: 0.3363, Test Accuracy: 85.0910\n",
      "Epoch 53 / 100\n",
      "Train Loss: 0.3609, Train Accuracy: 85.5677\n",
      "Test Loss: 0.3558, Test Accuracy: 83.3047\n",
      "Epoch 54 / 100\n",
      "Train Loss: 0.3532, Train Accuracy: 85.7872\n",
      "Test Loss: 0.3504, Test Accuracy: 83.5795\n",
      "Epoch 55 / 100\n",
      "Train Loss: 0.3521, Train Accuracy: 85.6982\n",
      "Test Loss: 0.3233, Test Accuracy: 85.6750\n",
      "Epoch 56 / 100\n",
      "Train Loss: 0.3511, Train Accuracy: 86.1965\n",
      "Test Loss: 0.3253, Test Accuracy: 85.1597\n",
      "Epoch 57 / 100\n",
      "Train Loss: 0.3433, Train Accuracy: 86.3804\n",
      "Test Loss: 0.3399, Test Accuracy: 83.9918\n",
      "Epoch 58 / 100\n",
      "Train Loss: 0.3395, Train Accuracy: 85.9651\n",
      "Test Loss: 0.3231, Test Accuracy: 85.1254\n",
      "Epoch 59 / 100\n",
      "Train Loss: 0.3361, Train Accuracy: 86.4634\n",
      "Test Loss: 0.3097, Test Accuracy: 86.3964\n",
      "Epoch 60 / 100\n",
      "Train Loss: 0.3398, Train Accuracy: 86.8252\n",
      "Test Loss: 0.3318, Test Accuracy: 84.1635\n",
      "Epoch 61 / 100\n",
      "Train Loss: 0.3345, Train Accuracy: 86.0719\n",
      "Test Loss: 0.3093, Test Accuracy: 85.5033\n",
      "Epoch 62 / 100\n",
      "Train Loss: 0.3268, Train Accuracy: 86.9973\n",
      "Test Loss: 0.2968, Test Accuracy: 86.3277\n",
      "Epoch 63 / 100\n",
      "Train Loss: 0.3258, Train Accuracy: 87.3413\n",
      "Test Loss: 0.3101, Test Accuracy: 85.1254\n",
      "Epoch 64 / 100\n",
      "Train Loss: 0.3199, Train Accuracy: 87.0981\n",
      "Test Loss: 0.3046, Test Accuracy: 85.5720\n",
      "Epoch 65 / 100\n",
      "Train Loss: 0.3188, Train Accuracy: 87.2998\n",
      "Test Loss: 0.2873, Test Accuracy: 87.4957\n",
      "Epoch 66 / 100\n",
      "Train Loss: 0.3148, Train Accuracy: 87.4066\n",
      "Test Loss: 0.3067, Test Accuracy: 85.2284\n",
      "Epoch 67 / 100\n",
      "Train Loss: 0.3092, Train Accuracy: 87.3473\n",
      "Test Loss: 0.2863, Test Accuracy: 86.9461\n",
      "Epoch 68 / 100\n",
      "Train Loss: 0.3052, Train Accuracy: 88.0176\n",
      "Test Loss: 0.2783, Test Accuracy: 87.5988\n",
      "Epoch 69 / 100\n",
      "Train Loss: 0.3014, Train Accuracy: 88.2667\n",
      "Test Loss: 0.2990, Test Accuracy: 85.4002\n",
      "Epoch 70 / 100\n",
      "Train Loss: 0.3010, Train Accuracy: 87.4244\n",
      "Test Loss: 0.2691, Test Accuracy: 88.4919\n",
      "Epoch 71 / 100\n",
      "Train Loss: 0.2948, Train Accuracy: 88.4921\n",
      "Test Loss: 0.2897, Test Accuracy: 86.2590\n",
      "Epoch 72 / 100\n",
      "Train Loss: 0.2932, Train Accuracy: 87.9345\n",
      "Test Loss: 0.2591, Test Accuracy: 88.8355\n",
      "Epoch 73 / 100\n",
      "Train Loss: 0.2922, Train Accuracy: 88.6226\n",
      "Test Loss: 0.3030, Test Accuracy: 84.8506\n",
      "Epoch 74 / 100\n",
      "Train Loss: 0.2943, Train Accuracy: 87.1100\n",
      "Test Loss: 0.2470, Test Accuracy: 90.1065\n",
      "Epoch 75 / 100\n",
      "Train Loss: 0.2954, Train Accuracy: 88.7413\n",
      "Test Loss: 0.3160, Test Accuracy: 83.3391\n",
      "Epoch 76 / 100\n",
      "Train Loss: 0.2958, Train Accuracy: 86.8252\n",
      "Test Loss: 0.2526, Test Accuracy: 89.4538\n",
      "Epoch 77 / 100\n",
      "Train Loss: 0.2748, Train Accuracy: 89.5539\n",
      "Test Loss: 0.2460, Test Accuracy: 89.8660\n",
      "Epoch 78 / 100\n",
      "Train Loss: 0.2742, Train Accuracy: 89.8090\n",
      "Test Loss: 0.3170, Test Accuracy: 83.8200\n",
      "Epoch 79 / 100\n",
      "Train Loss: 0.2917, Train Accuracy: 87.1812\n",
      "Test Loss: 0.2372, Test Accuracy: 90.3470\n",
      "Epoch 80 / 100\n",
      "Train Loss: 0.2782, Train Accuracy: 89.1980\n",
      "Test Loss: 0.2613, Test Accuracy: 87.4614\n",
      "Epoch 81 / 100\n",
      "Train Loss: 0.2622, Train Accuracy: 89.2336\n",
      "Test Loss: 0.2609, Test Accuracy: 87.4957\n",
      "Epoch 82 / 100\n",
      "Train Loss: 0.2623, Train Accuracy: 89.2811\n",
      "Test Loss: 0.2287, Test Accuracy: 90.8279\n",
      "Epoch 83 / 100\n",
      "Train Loss: 0.2662, Train Accuracy: 90.1175\n",
      "Test Loss: 0.2734, Test Accuracy: 86.5682\n",
      "Epoch 84 / 100\n",
      "Train Loss: 0.2650, Train Accuracy: 89.0260\n",
      "Test Loss: 0.2318, Test Accuracy: 89.9004\n",
      "Epoch 85 / 100\n",
      "Train Loss: 0.2473, Train Accuracy: 90.5149\n",
      "Test Loss: 0.2247, Test Accuracy: 90.5187\n",
      "Epoch 86 / 100\n",
      "Train Loss: 0.2525, Train Accuracy: 90.8115\n",
      "Test Loss: 0.2689, Test Accuracy: 86.6712\n",
      "Epoch 87 / 100\n",
      "Train Loss: 0.2605, Train Accuracy: 89.0794\n",
      "Test Loss: 0.2183, Test Accuracy: 91.5149\n",
      "Epoch 88 / 100\n",
      "Train Loss: 0.2509, Train Accuracy: 90.9657\n",
      "Test Loss: 0.2283, Test Accuracy: 90.0378\n",
      "Epoch 89 / 100\n",
      "Train Loss: 0.2394, Train Accuracy: 90.7759\n",
      "Test Loss: 0.2444, Test Accuracy: 88.4232\n",
      "Epoch 90 / 100\n",
      "Train Loss: 0.2397, Train Accuracy: 90.4140\n",
      "Test Loss: 0.2134, Test Accuracy: 91.3775\n",
      "Epoch 91 / 100\n",
      "Train Loss: 0.2483, Train Accuracy: 90.3369\n",
      "Test Loss: 0.2563, Test Accuracy: 87.4957\n",
      "Epoch 92 / 100\n",
      "Train Loss: 0.2436, Train Accuracy: 90.1590\n",
      "Test Loss: 0.2114, Test Accuracy: 91.7211\n",
      "Epoch 93 / 100\n",
      "Train Loss: 0.2343, Train Accuracy: 91.6242\n",
      "Test Loss: 0.2107, Test Accuracy: 91.6180\n",
      "Epoch 94 / 100\n",
      "Train Loss: 0.2285, Train Accuracy: 91.7784\n",
      "Test Loss: 0.2431, Test Accuracy: 88.7667\n",
      "Epoch 95 / 100\n",
      "Train Loss: 0.2317, Train Accuracy: 90.4971\n",
      "Test Loss: 0.2053, Test Accuracy: 91.6867\n",
      "Epoch 96 / 100\n",
      "Train Loss: 0.2367, Train Accuracy: 90.8945\n",
      "Test Loss: 0.2599, Test Accuracy: 87.7018\n",
      "Epoch 97 / 100\n",
      "Train Loss: 0.2411, Train Accuracy: 90.0522\n",
      "Test Loss: 0.2011, Test Accuracy: 92.3050\n",
      "Epoch 98 / 100\n",
      "Train Loss: 0.2239, Train Accuracy: 91.9326\n",
      "Test Loss: 0.2016, Test Accuracy: 91.9272\n",
      "Epoch 99 / 100\n",
      "Train Loss: 0.2163, Train Accuracy: 92.1106\n",
      "Test Loss: 0.2347, Test Accuracy: 89.3164\n",
      "Epoch 100 / 100\n",
      "Train Loss: 0.2222, Train Accuracy: 90.9776\n",
      "Test Loss: 0.1976, Test Accuracy: 91.9272\n",
      "\n",
      "this took 232.88773894309998 seconds \n",
      "\n"
     ]
    }
   ],
   "source": [
    "import time\n",
    "\n",
    "epochs = 100\n",
    "\n",
    "train_losses = []\n",
    "test_losses = []\n",
    "train_accuracies = []\n",
    "test_accuracies = []\n",
    "\n",
    "start_time = time.time()\n",
    "\n",
    "for i in range(epochs):\n",
    "    binary_cnn_model.train()\n",
    "\n",
    "    #for confusion matrix\n",
    "    train_preds = []\n",
    "    train_truths = []\n",
    "    test_preds = []\n",
    "    test_truths = []\n",
    "    \n",
    "    y_pred_train = binary_cnn_model(X_train)\n",
    "    train_loss = loss_func(y_pred_train, y_train)\n",
    "    \n",
    "    #accuracy calculation (I go over this in a cell at the end of this notebook)\n",
    "    _, train_predicted = torch.max(y_pred_train, 1)\n",
    "    train_acc = (train_predicted == y_train).sum().item() / y_train.size(0) * 100\n",
    "\n",
    "    #for graphs & stats\n",
    "    train_losses.append(train_loss.item())\n",
    "    train_accuracies.append(train_acc)\n",
    "    #for confusion matrix\n",
    "    train_preds.extend(train_predicted.numpy())\n",
    "    train_truths.extend(y_train.numpy())\n",
    "\n",
    "    #backward pass and optimization\n",
    "    optimizer.zero_grad()\n",
    "    train_loss.backward()\n",
    "    optimizer.step()\n",
    "\n",
    "    #test\n",
    "    binary_cnn_model.eval()\n",
    "    with torch.no_grad():\n",
    "        y_pred_test = binary_cnn_model(X_test)\n",
    "        test_loss = loss_func(y_pred_test, y_test)\n",
    "\n",
    "        _, test_predicted = torch.max(y_pred_test, 1)\n",
    "        test_acc = (test_predicted == y_test).sum().item() / y_test.size(0) * 100\n",
    "\n",
    "        #for graphs and stats\n",
    "        test_losses.append(test_loss.item())\n",
    "        test_accuracies.append(test_acc)\n",
    "\n",
    "        #for confusion matrix\n",
    "        test_preds.extend(test_predicted.numpy())\n",
    "        test_truths.extend(y_test.numpy())\n",
    "    \n",
    "\n",
    "    print(f\"Epoch {i+1} / {epochs}\")\n",
    "    print(f\"Train Loss: {train_loss.item():.4f}, Train Accuracy: {train_acc:.4f}\")\n",
    "    print(f\"Test Loss: {test_loss.item():.4f}, Test Accuracy: {test_acc:.4f}\")\n",
    "\n",
    "\n",
    "current_time = time.time()\n",
    "total = current_time - start_time\n",
    "print(\"\")\n",
    "print(f\"this took {total} seconds \\n\")\n"
   ]
  },
  {
   "cell_type": "code",
   "execution_count": 114,
   "metadata": {},
   "outputs": [
    {
     "data": {
      "text/plain": [
       "<matplotlib.legend.Legend at 0x159aa1e50>"
      ]
     },
     "execution_count": 114,
     "metadata": {},
     "output_type": "execute_result"
    },
    {
     "data": {
      "image/png": "[encoded data removed]",
      "text/plain": [
       "<Figure size 640x480 with 1 Axes>"
      ]
     },
     "metadata": {},
     "output_type": "display_data"
    }
   ],
   "source": [
    "plt.figure()\n",
    "plt.plot(range(1, epochs+1), train_losses, label=\"Training Loss\")\n",
    "plt.plot(range(1, epochs+1), test_losses, label=\"Testing Loss\")\n",
    "plt.title(\"Loss vs. Epochs\")\n",
    "plt.xlabel(\"Epoch\")\n",
    "plt.ylabel(\"Loss\")\n",
    "plt.grid(True)\n",
    "plt.legend()"
   ]
  },
  {
   "cell_type": "code",
   "execution_count": 115,
   "metadata": {},
   "outputs": [
    {
     "name": "stdout",
     "output_type": "stream",
     "text": [
      "Training Confusion Matrix:\n",
      "[[8157  272]\n",
      " [1249 7180]]\n"
     ]
    },
    {
     "data": {
      "image/png": "[encoded data removed]",
      "text/plain": [
       "<Figure size 800x600 with 2 Axes>"
      ]
     },
     "metadata": {},
     "output_type": "display_data"
    },
    {
     "name": "stdout",
     "output_type": "stream",
     "text": [
      "Testing Confusion Matrix:\n",
      "[[ 736   98]\n",
      " [ 137 1940]]\n"
     ]
    },
    {
     "data": {
      "image/png": "[encoded data removed]",
      "text/plain": [
       "<Figure size 800x600 with 2 Axes>"
      ]
     },
     "metadata": {},
     "output_type": "display_data"
    }
   ],
   "source": [
    "#training confusion matrix\n",
    "train_cm = confusion_matrix(train_truths, train_preds)\n",
    "print(\"Training Confusion Matrix:\")\n",
    "print(train_cm)\n",
    "\n",
    "plt.figure(figsize=(8, 6))\n",
    "sns.heatmap(train_cm, annot=True, fmt=\"d\", cmap=\"Blues\", xticklabels=[\"Normal\", \"Abnormal\"], yticklabels=[\"Normal\", \"Abnormal\"])\n",
    "plt.title(\"Training Confusion Matrix\")\n",
    "plt.xlabel(\"Predicted Label\")\n",
    "plt.ylabel(\"True Label\")\n",
    "plt.show()\n",
    "\n",
    "#testing confusion matrix\n",
    "test_cm = confusion_matrix(test_truths, test_preds)\n",
    "print(\"Testing Confusion Matrix:\")\n",
    "print(test_cm)\n",
    "\n",
    "plt.figure(figsize=(8, 6))\n",
    "sns.heatmap(test_cm, annot=True, fmt=\"d\", cmap=\"Blues\", xticklabels=[\"Normal\", \"Abnormal\"], yticklabels=[\"Normal\", \"Abnormal\"])\n",
    "plt.title(\"Testing Confusion Matrix\")\n",
    "plt.xlabel(\"Predicted Label\")\n",
    "plt.ylabel(\"True Label\")\n",
    "plt.show()\n"
   ]
  },
  {
   "cell_type": "markdown",
   "metadata": {},
   "source": [
    "Grab a sample, run though model, and comapre to see if model gets it right"
   ]
  },
  {
   "cell_type": "code",
   "execution_count": 119,
   "metadata": {},
   "outputs": [
    {
     "name": "stdout",
     "output_type": "stream",
     "text": [
      "1\n",
      "1\n"
     ]
    }
   ],
   "source": [
    "sample = X_train[269]\n",
    "truth = y_train[269]\n",
    "\n",
    "#apply unsqueeze to get it to the proper shape for model\n",
    "output = binary_cnn_model(sample.unsqueeze(1))\n",
    "_, pred = torch.max(output,dim=1)\n",
    "print(pred.item())\n",
    "print(truth.item())"
   ]
  }
 ],
 "metadata": {
  "kernelspec": {
   "display_name": "base",
   "language": "python",
   "name": "python3"
  },
  "language_info": {
   "codemirror_mode": {
    "name": "ipython",
    "version": 3
   },
   "file_extension": ".py",
   "mimetype": "text/x-python",
   "name": "python",
   "nbconvert_exporter": "python",
   "pygments_lexer": "ipython3",
   "version": "3.12.4"
  }
 },
 "nbformat": 4,
 "nbformat_minor": 2
}
